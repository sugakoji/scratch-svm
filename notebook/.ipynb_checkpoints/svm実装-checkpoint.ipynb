{
 "cells": [
  {
   "cell_type": "markdown",
   "metadata": {},
   "source": [
    "# 自作ライブラリのインポート"
   ]
  },
  {
   "cell_type": "code",
   "execution_count": 24,
   "metadata": {},
   "outputs": [],
   "source": [
    "import os\n",
    "import sys\n",
    "pardir = os.path.dirname(os.getcwd())\n",
    "sys.path.append(pardir)"
   ]
  },
  {
   "cell_type": "code",
   "execution_count": 25,
   "metadata": {},
   "outputs": [],
   "source": [
    "from src.model import SVM,Kernel_SVM\n",
    "\n",
    "from src import vizualize"
   ]
  },
  {
   "cell_type": "markdown",
   "metadata": {},
   "source": [
    "# モデル構築"
   ]
  },
  {
   "cell_type": "code",
   "execution_count": 26,
   "metadata": {},
   "outputs": [],
   "source": [
    "from sklearn import datasets\n",
    "from sklearn.model_selection import train_test_split\n",
    "import numpy as np\n",
    "import matplotlib.pyplot as plt\n",
    "iris = datasets.load_iris()\n",
    "name = [\"_\".join(i.split(\" \")[:2]) for i in iris.feature_names]\n",
    "\n",
    "def show_data(not_target = 0, var_1 = 1, var_2 = 2):\n",
    "    iris = datasets.load_iris()\n",
    "    x = iris.data[iris.target != not_target]\n",
    "    x = (x - np.mean(x, axis = 0))/np.std(x, axis = 0)\n",
    "    y = iris.target[iris.target !=not_target]\n",
    "    y = np.where(y ==1, -1, 1)\n",
    "    \n",
    "    fig = plt.figure() \n",
    "    ax = plt.axes()\n",
    "    ax.scatter(x[y == -1][:,var_1 ],x[y == -1][:,var_2])\n",
    "    ax.scatter(x[y == 1][:,var_1 ],x[y == 1][:,var_2])\n",
    "    plt.show()\n"
   ]
  },
  {
   "cell_type": "code",
   "execution_count": null,
   "metadata": {},
   "outputs": [],
   "source": []
  },
  {
   "cell_type": "markdown",
   "metadata": {},
   "source": [
    "# ハードマージンsvm\n"
   ]
  },
  {
   "cell_type": "markdown",
   "metadata": {},
   "source": [
    "## データの準備"
   ]
  },
  {
   "cell_type": "code",
   "execution_count": 27,
   "metadata": {},
   "outputs": [
    {
     "data": {
      "image/png": "[encoded data removed]",
      "text/plain": [
       "<matplotlib.figure.Figure at 0x1a1500c128>"
      ]
     },
     "metadata": {
      "needs_background": "light"
     },
     "output_type": "display_data"
    }
   ],
   "source": [
    "show_data(not_target = 2, var_1 = 2, var_2 =3)"
   ]
  },
  {
   "cell_type": "code",
   "execution_count": 28,
   "metadata": {},
   "outputs": [],
   "source": [
    "\n",
    "\n",
    "iris = datasets.load_iris()\n",
    "x = iris.data[iris.target != 2]\n",
    "x = (x - np.mean(x, axis = 0))/np.std(x, axis = 0)\n",
    "y = iris.target[iris.target != 2]\n",
    "y = np.where(y ==0, -1, 1)\n",
    "\n",
    "\n",
    "\n",
    "var_1 = 2\n",
    "var_2 = 3\n",
    "x_data = x\n",
    "x_data = x_data[:, [var_1,var_2]]\n",
    "# データを学習用/テスト用に分割している\n",
    "x_train, x_test, y_train, y_test = train_test_split(x_data,\n",
    "                                                    y,\n",
    "                                                    test_size=0.2)"
   ]
  },
  {
   "cell_type": "markdown",
   "metadata": {},
   "source": [
    "# 自作モデル"
   ]
  },
  {
   "cell_type": "code",
   "execution_count": 29,
   "metadata": {},
   "outputs": [],
   "source": [
    "\n",
    "\n",
    "model = SVM()\n",
    "model.fit(x_train, y_train)"
   ]
  },
  {
   "cell_type": "code",
   "execution_count": 30,
   "metadata": {},
   "outputs": [
    {
     "data": {
      "image/png": "[encoded data removed]",
      "text/plain": [
       "<matplotlib.figure.Figure at 0x1047e4eb8>"
      ]
     },
     "metadata": {
      "needs_background": "light"
     },
     "output_type": "display_data"
    },
    {
     "data": {
      "text/plain": [
       "<matplotlib.figure.Figure at 0x1047e4cc0>"
      ]
     },
     "metadata": {},
     "output_type": "display_data"
    }
   ],
   "source": [
    "# 可視化\n",
    "\n",
    "vizualize.viz(x,y,model,var_1,var_2)\n",
    "plt.savefig('../fig/hard_magin_svm.png') "
   ]
  },
  {
   "cell_type": "markdown",
   "metadata": {},
   "source": [
    "## sklearnで比較"
   ]
  },
  {
   "cell_type": "code",
   "execution_count": 31,
   "metadata": {},
   "outputs": [
    {
     "data": {
      "text/plain": [
       "SGDClassifier(alpha=0.0001, average=False, class_weight=None, epsilon=0.1,\n",
       "       eta0=0.0, fit_intercept=True, l1_ratio=0.15,\n",
       "       learning_rate='optimal', loss='hinge', max_iter=1000, n_iter=None,\n",
       "       n_jobs=1, penalty='l2', power_t=0.5, random_state=None,\n",
       "       shuffle=True, tol=0.001, verbose=0, warm_start=False)"
      ]
     },
     "execution_count": 31,
     "metadata": {},
     "output_type": "execute_result"
    }
   ],
   "source": [
    "from sklearn import linear_model\n",
    "\n",
    "clf = linear_model.SGDClassifier(max_iter=1000, tol=1e-3)\n",
    "clf.fit(x_train, y_train)"
   ]
  },
  {
   "cell_type": "code",
   "execution_count": 32,
   "metadata": {},
   "outputs": [
    {
     "data": {
      "image/png": "[encoded data removed]",
      "text/plain": [
       "<matplotlib.figure.Figure at 0x1a15a9a240>"
      ]
     },
     "metadata": {
      "needs_background": "light"
     },
     "output_type": "display_data"
    }
   ],
   "source": [
    "\n",
    "vizualize.viz(x,y,clf,var_1,var_2)"
   ]
  },
  {
   "cell_type": "markdown",
   "metadata": {},
   "source": [
    "# ソフトマージン"
   ]
  },
  {
   "cell_type": "code",
   "execution_count": 33,
   "metadata": {},
   "outputs": [
    {
     "data": {
      "image/png": "[encoded data removed]",
      "text/plain": [
       "<matplotlib.figure.Figure at 0x104790eb8>"
      ]
     },
     "metadata": {
      "needs_background": "light"
     },
     "output_type": "display_data"
    }
   ],
   "source": [
    "show_data(not_target = 0, var_1 = 1, var_2 =2)"
   ]
  },
  {
   "cell_type": "code",
   "execution_count": 34,
   "metadata": {},
   "outputs": [],
   "source": [
    "\n",
    "\n",
    "iris = datasets.load_iris()\n",
    "x = iris.data[iris.target != 0]\n",
    "x = (x - np.mean(x, axis = 0))/np.std(x, axis = 0)\n",
    "y = iris.target[iris.target !=0]\n",
    "y = np.where(y ==1, -1, 1)\n",
    "\n",
    "\n",
    "    \n",
    "var_1 = 1\n",
    "var_2 = 2\n",
    "x_data = x\n",
    "x_data = x_data[:, [var_1,var_2]]\n",
    "\n",
    "# データを学習用/テスト用に分割している\n",
    "x_train, x_test, y_train, y_test = train_test_split(x_data,\n",
    "                                                    y,\n",
    "                                                    test_size=0.2)"
   ]
  },
  {
   "cell_type": "markdown",
   "metadata": {},
   "source": [
    "# 自作モデル"
   ]
  },
  {
   "cell_type": "code",
   "execution_count": 35,
   "metadata": {},
   "outputs": [],
   "source": [
    "# 自作モデル\n",
    "\n",
    "model = SVM()\n",
    "model.fit(x_train, y_train)"
   ]
  },
  {
   "cell_type": "code",
   "execution_count": 36,
   "metadata": {},
   "outputs": [
    {
     "data": {
      "image/png": "[encoded data removed]",
      "text/plain": [
       "<matplotlib.figure.Figure at 0x1a1472e978>"
      ]
     },
     "metadata": {
      "needs_background": "light"
     },
     "output_type": "display_data"
    },
    {
     "data": {
      "text/plain": [
       "<matplotlib.figure.Figure at 0x1a1472eac8>"
      ]
     },
     "metadata": {},
     "output_type": "display_data"
    }
   ],
   "source": [
    "# 可視化\n",
    "\n",
    "vizualize.viz(x,y,model,var_1,var_2)\n",
    "plt.savefig('../fig/soft_magin_svm.png') "
   ]
  },
  {
   "cell_type": "markdown",
   "metadata": {},
   "source": [
    "# sklearnモデル"
   ]
  },
  {
   "cell_type": "code",
   "execution_count": 37,
   "metadata": {},
   "outputs": [
    {
     "data": {
      "text/plain": [
       "SGDClassifier(alpha=0.0001, average=False, class_weight=None, epsilon=0.1,\n",
       "       eta0=0.0, fit_intercept=True, l1_ratio=0.15,\n",
       "       learning_rate='optimal', loss='hinge', max_iter=1000, n_iter=None,\n",
       "       n_jobs=1, penalty='l2', power_t=0.5, random_state=None,\n",
       "       shuffle=True, tol=0.001, verbose=0, warm_start=False)"
      ]
     },
     "execution_count": 37,
     "metadata": {},
     "output_type": "execute_result"
    }
   ],
   "source": [
    "from sklearn import linear_model\n",
    "\n",
    "clf = linear_model.SGDClassifier(max_iter=1000, tol=1e-3)\n",
    "clf.fit(x_train, y_train)"
   ]
  },
  {
   "cell_type": "code",
   "execution_count": 38,
   "metadata": {},
   "outputs": [
    {
     "data": {
      "image/png": "[encoded data removed]",
      "text/plain": [
       "<matplotlib.figure.Figure at 0x1a1472ed30>"
      ]
     },
     "metadata": {
      "needs_background": "light"
     },
     "output_type": "display_data"
    }
   ],
   "source": [
    "# 可視化\n",
    "\n",
    "vizualize.viz(x,y,model,var_1,var_2)"
   ]
  },
  {
   "cell_type": "markdown",
   "metadata": {},
   "source": [
    "# カーネルSVM"
   ]
  },
  {
   "cell_type": "code",
   "execution_count": 39,
   "metadata": {},
   "outputs": [
    {
     "data": {
      "image/png": "[encoded data removed]",
      "text/plain": [
       "<matplotlib.figure.Figure at 0x1a14876358>"
      ]
     },
     "metadata": {
      "needs_background": "light"
     },
     "output_type": "display_data"
    }
   ],
   "source": [
    "import numpy as np \n",
    "import sklearn \n",
    "import matplotlib.pyplot as plt\n",
    "from sklearn.datasets.samples_generator import make_circles\n",
    "X,Y = make_circles(90, factor=0.2, noise=0.1) \n",
    "Y =Y*2 -1\n",
    "plt.scatter(X[:,0],X[:,1], c=Y, s=50, cmap='seismic')\n",
    "plt.show()"
   ]
  },
  {
   "cell_type": "code",
   "execution_count": null,
   "metadata": {},
   "outputs": [],
   "source": []
  },
  {
   "cell_type": "code",
   "execution_count": 40,
   "metadata": {},
   "outputs": [],
   "source": [
    "\n",
    "\n",
    "    \n",
    "var_1 = 0\n",
    "var_2 = 1\n",
    "\n",
    "x_data = X[:, [var_1,var_2]]\n",
    "\n",
    "# データを学習用/テスト用に分割している\n",
    "x_train, x_test, y_train, y_test = train_test_split(x_data,\n",
    "                                                    Y,\n",
    "                                                    test_size=0.2)"
   ]
  },
  {
   "cell_type": "code",
   "execution_count": null,
   "metadata": {},
   "outputs": [],
   "source": []
  },
  {
   "cell_type": "code",
   "execution_count": 41,
   "metadata": {},
   "outputs": [],
   "source": [
    "model = Kernel_SVM()\n",
    "model.fit(x_train, y_train)"
   ]
  },
  {
   "cell_type": "code",
   "execution_count": null,
   "metadata": {},
   "outputs": [],
   "source": []
  },
  {
   "cell_type": "code",
   "execution_count": null,
   "metadata": {},
   "outputs": [],
   "source": []
  },
  {
   "cell_type": "code",
   "execution_count": null,
   "metadata": {},
   "outputs": [
    {
     "name": "stdout",
     "output_type": "stream",
     "text": [
      "C = 1, gamma = 0.0001\n",
      "0.513888888889\n",
      "[-1 -1 -1 -1 -1 -1 -1 -1 -1 -1 -1 -1 -1 -1 -1 -1 -1 -1 -1 -1 -1 -1 -1 -1 -1\n",
      " -1 -1 -1 -1 -1 -1 -1 -1 -1 -1 -1 -1 -1 -1 -1 -1 -1 -1 -1 -1 -1 -1 -1 -1 -1\n",
      " -1 -1 -1 -1 -1 -1 -1 -1 -1 -1 -1 -1 -1 -1 -1 -1 -1 -1 -1 -1 -1 -1]\n",
      "\n",
      "\n",
      "C = 1, gamma = 0.001\n",
      "0.513888888889\n",
      "[-1 -1 -1 -1 -1 -1 -1 -1 -1 -1 -1 -1 -1 -1 -1 -1 -1 -1 -1 -1 -1 -1 -1 -1 -1\n",
      " -1 -1 -1 -1 -1 -1 -1 -1 -1 -1 -1 -1 -1 -1 -1 -1 -1 -1 -1 -1 -1 -1 -1 -1 -1\n",
      " -1 -1 -1 -1 -1 -1 -1 -1 -1 -1 -1 -1 -1 -1 -1 -1 -1 -1 -1 -1 -1 -1]\n",
      "\n",
      "\n",
      "C = 1, gamma = 0.01\n",
      "0.486111111111\n",
      "[1 1 1 1 1 1 1 1 1 1 1 1 1 1 1 1 1 1 1 1 1 1 1 1 1 1 1 1 1 1 1 1 1 1 1 1 1\n",
      " 1 1 1 1 1 1 1 1 1 1 1 1 1 1 1 1 1 1 1 1 1 1 1 1 1 1 1 1 1 1 1 1 1 1 1]\n",
      "\n",
      "\n",
      "C = 1, gamma = 0.1\n",
      "0.486111111111\n",
      "[1 1 1 1 1 1 1 1 1 1 1 1 1 1 1 1 1 1 1 1 1 1 1 1 1 1 1 1 1 1 1 1 1 1 1 1 1\n",
      " 1 1 1 1 1 1 1 1 1 1 1 1 1 1 1 1 1 1 1 1 1 1 1 1 1 1 1 1 1 1 1 1 1 1 1]\n",
      "\n",
      "\n",
      "C = 1, gamma = 1\n",
      "0.722222222222\n",
      "[ 1  1 -1  1 -1  1 -1  1 -1 -1  1 -1  1  1 -1  1  1 -1  1  1  1 -1  1  1 -1\n",
      "  1  1  1  1 -1  1  1  1  1  1  1  1  1  1  1  1  1  1  1 -1  1  1  1  1  1\n",
      " -1  1 -1  1  1  1 -1  1  1  1  1 -1  1  1  1  1  1 -1  1  1  1  1]\n",
      "\n",
      "\n",
      "C = 1, gamma = 10\n",
      "1.0\n",
      "[ 1  1 -1  1 -1  1 -1  1 -1 -1 -1 -1  1  1 -1 -1  1 -1  1  1  1 -1  1  1 -1\n",
      " -1 -1  1  1 -1 -1  1 -1  1 -1  1  1 -1  1  1 -1  1  1 -1 -1  1 -1 -1  1 -1\n",
      " -1 -1 -1 -1 -1  1 -1  1 -1 -1 -1 -1  1  1  1  1  1 -1 -1  1  1  1]\n",
      "\n",
      "\n",
      "C = 1, gamma = 100\n",
      "1.0\n",
      "[ 1  1 -1  1 -1  1 -1  1 -1 -1 -1 -1  1  1 -1 -1  1 -1  1  1  1 -1  1  1 -1\n",
      " -1 -1  1  1 -1 -1  1 -1  1 -1  1  1 -1  1  1 -1  1  1 -1 -1  1 -1 -1  1 -1\n",
      " -1 -1 -1 -1 -1  1 -1  1 -1 -1 -1 -1  1  1  1  1  1 -1 -1  1  1  1]\n",
      "\n",
      "\n",
      "C = 5, gamma = 0.0001\n",
      "0.513888888889\n",
      "[-1 -1 -1 -1 -1 -1 -1 -1 -1 -1 -1 -1 -1 -1 -1 -1 -1 -1 -1 -1 -1 -1 -1 -1 -1\n",
      " -1 -1 -1 -1 -1 -1 -1 -1 -1 -1 -1 -1 -1 -1 -1 -1 -1 -1 -1 -1 -1 -1 -1 -1 -1\n",
      " -1 -1 -1 -1 -1 -1 -1 -1 -1 -1 -1 -1 -1 -1 -1 -1 -1 -1 -1 -1 -1 -1]\n",
      "\n",
      "\n",
      "C = 5, gamma = 0.001\n",
      "0.486111111111\n",
      "[1 1 1 1 1 1 1 1 1 1 1 1 1 1 1 1 1 1 1 1 1 1 1 1 1 1 1 1 1 1 1 1 1 1 1 1 1\n",
      " 1 1 1 1 1 1 1 1 1 1 1 1 1 1 1 1 1 1 1 1 1 1 1 1 1 1 1 1 1 1 1 1 1 1 1]\n",
      "\n",
      "\n",
      "C = 5, gamma = 0.01\n",
      "0.513888888889\n",
      "[-1 -1 -1 -1 -1 -1 -1 -1 -1 -1 -1 -1 -1 -1 -1 -1 -1 -1 -1 -1 -1 -1 -1 -1 -1\n",
      " -1 -1 -1 -1 -1 -1 -1 -1 -1 -1 -1 -1 -1 -1 -1 -1 -1 -1 -1 -1 -1 -1 -1 -1 -1\n",
      " -1 -1 -1 -1 -1 -1 -1 -1 -1 -1 -1 -1 -1 -1 -1 -1 -1 -1 -1 -1 -1 -1]\n",
      "\n",
      "\n",
      "C = 5, gamma = 0.1\n",
      "0.486111111111\n",
      "[1 1 1 1 1 1 1 1 1 1 1 1 1 1 1 1 1 1 1 1 1 1 1 1 1 1 1 1 1 1 1 1 1 1 1 1 1\n",
      " 1 1 1 1 1 1 1 1 1 1 1 1 1 1 1 1 1 1 1 1 1 1 1 1 1 1 1 1 1 1 1 1 1 1 1]\n",
      "\n",
      "\n",
      "C = 5, gamma = 1\n",
      "0.555555555556\n",
      "[ 1  1  1  1  1  1  1  1  1  1  1  1  1  1  1  1  1  1  1  1  1 -1  1  1 -1\n",
      "  1  1  1  1  1  1  1  1  1  1  1  1  1  1  1  1  1  1  1  1  1  1  1  1  1\n",
      " -1  1 -1  1  1  1  1  1  1  1  1 -1  1  1  1  1  1  1  1  1  1  1]\n",
      "\n",
      "\n",
      "C = 5, gamma = 10\n",
      "1.0\n",
      "[ 1  1 -1  1 -1  1 -1  1 -1 -1 -1 -1  1  1 -1 -1  1 -1  1  1  1 -1  1  1 -1\n",
      " -1 -1  1  1 -1 -1  1 -1  1 -1  1  1 -1  1  1 -1  1  1 -1 -1  1 -1 -1  1 -1\n",
      " -1 -1 -1 -1 -1  1 -1  1 -1 -1 -1 -1  1  1  1  1  1 -1 -1  1  1  1]\n",
      "\n",
      "\n",
      "C = 5, gamma = 100\n",
      "1.0\n",
      "[ 1  1 -1  1 -1  1 -1  1 -1 -1 -1 -1  1  1 -1 -1  1 -1  1  1  1 -1  1  1 -1\n",
      " -1 -1  1  1 -1 -1  1 -1  1 -1  1  1 -1  1  1 -1  1  1 -1 -1  1 -1 -1  1 -1\n",
      " -1 -1 -1 -1 -1  1 -1  1 -1 -1 -1 -1  1  1  1  1  1 -1 -1  1  1  1]\n",
      "\n",
      "\n",
      "C = 10, gamma = 0.0001\n",
      "0.513888888889\n",
      "[-1 -1 -1 -1 -1 -1 -1 -1 -1 -1 -1 -1 -1 -1 -1 -1 -1 -1 -1 -1 -1 -1 -1 -1 -1\n",
      " -1 -1 -1 -1 -1 -1 -1 -1 -1 -1 -1 -1 -1 -1 -1 -1 -1 -1 -1 -1 -1 -1 -1 -1 -1\n",
      " -1 -1 -1 -1 -1 -1 -1 -1 -1 -1 -1 -1 -1 -1 -1 -1 -1 -1 -1 -1 -1 -1]\n",
      "\n",
      "\n",
      "C = 10, gamma = 0.001\n",
      "0.513888888889\n",
      "[-1 -1 -1 -1 -1 -1 -1 -1 -1 -1 -1 -1 -1 -1 -1 -1 -1 -1 -1 -1 -1 -1 -1 -1 -1\n",
      " -1 -1 -1 -1 -1 -1 -1 -1 -1 -1 -1 -1 -1 -1 -1 -1 -1 -1 -1 -1 -1 -1 -1 -1 -1\n",
      " -1 -1 -1 -1 -1 -1 -1 -1 -1 -1 -1 -1 -1 -1 -1 -1 -1 -1 -1 -1 -1 -1]\n",
      "\n",
      "\n",
      "C = 10, gamma = 0.01\n",
      "0.486111111111\n",
      "[1 1 1 1 1 1 1 1 1 1 1 1 1 1 1 1 1 1 1 1 1 1 1 1 1 1 1 1 1 1 1 1 1 1 1 1 1\n",
      " 1 1 1 1 1 1 1 1 1 1 1 1 1 1 1 1 1 1 1 1 1 1 1 1 1 1 1 1 1 1 1 1 1 1 1]\n",
      "\n",
      "\n",
      "C = 10, gamma = 0.1\n",
      "0.486111111111\n",
      "[1 1 1 1 1 1 1 1 1 1 1 1 1 1 1 1 1 1 1 1 1 1 1 1 1 1 1 1 1 1 1 1 1 1 1 1 1\n",
      " 1 1 1 1 1 1 1 1 1 1 1 1 1 1 1 1 1 1 1 1 1 1 1 1 1 1 1 1 1 1 1 1 1 1 1]\n",
      "\n",
      "\n",
      "C = 10, gamma = 1\n",
      "0.527777777778\n",
      "[ 1  1  1  1  1  1  1  1  1  1  1  1  1  1  1  1  1  1  1  1  1 -1  1  1  1\n",
      "  1  1  1  1  1  1  1  1  1  1  1  1  1  1  1  1  1  1  1  1  1  1  1  1  1\n",
      " -1  1  1  1  1  1  1  1  1  1  1 -1  1  1  1  1  1  1  1  1  1  1]\n",
      "\n",
      "\n",
      "C = 10, gamma = 10\n",
      "1.0\n",
      "[ 1  1 -1  1 -1  1 -1  1 -1 -1 -1 -1  1  1 -1 -1  1 -1  1  1  1 -1  1  1 -1\n",
      " -1 -1  1  1 -1 -1  1 -1  1 -1  1  1 -1  1  1 -1  1  1 -1 -1  1 -1 -1  1 -1\n",
      " -1 -1 -1 -1 -1  1 -1  1 -1 -1 -1 -1  1  1  1  1  1 -1 -1  1  1  1]\n",
      "\n",
      "\n",
      "C = 10, gamma = 100\n",
      "1.0\n",
      "[ 1  1 -1  1 -1  1 -1  1 -1 -1 -1 -1  1  1 -1 -1  1 -1  1  1  1 -1  1  1 -1\n",
      " -1 -1  1  1 -1 -1  1 -1  1 -1  1  1 -1  1  1 -1  1  1 -1 -1  1 -1 -1  1 -1\n",
      " -1 -1 -1 -1 -1  1 -1  1 -1 -1 -1 -1  1  1  1  1  1 -1 -1  1  1  1]\n",
      "\n",
      "\n",
      "C = 20, gamma = 0.0001\n",
      "0.513888888889\n",
      "[-1 -1 -1 -1 -1 -1 -1 -1 -1 -1 -1 -1 -1 -1 -1 -1 -1 -1 -1 -1 -1 -1 -1 -1 -1\n",
      " -1 -1 -1 -1 -1 -1 -1 -1 -1 -1 -1 -1 -1 -1 -1 -1 -1 -1 -1 -1 -1 -1 -1 -1 -1\n",
      " -1 -1 -1 -1 -1 -1 -1 -1 -1 -1 -1 -1 -1 -1 -1 -1 -1 -1 -1 -1 -1 -1]\n",
      "\n",
      "\n",
      "C = 20, gamma = 0.001\n",
      "0.513888888889\n",
      "[-1 -1 -1 -1 -1 -1 -1 -1 -1 -1 -1 -1 -1 -1 -1 -1 -1 -1 -1 -1 -1 -1 -1 -1 -1\n",
      " -1 -1 -1 -1 -1 -1 -1 -1 -1 -1 -1 -1 -1 -1 -1 -1 -1 -1 -1 -1 -1 -1 -1 -1 -1\n",
      " -1 -1 -1 -1 -1 -1 -1 -1 -1 -1 -1 -1 -1 -1 -1 -1 -1 -1 -1 -1 -1 -1]\n",
      "\n",
      "\n",
      "C = 20, gamma = 0.01\n",
      "0.513888888889\n",
      "[-1 -1 -1 -1 -1 -1 -1 -1 -1 -1 -1 -1 -1 -1 -1 -1 -1 -1 -1 -1 -1 -1 -1 -1 -1\n",
      " -1 -1 -1 -1 -1 -1 -1 -1 -1 -1 -1 -1 -1 -1 -1 -1 -1 -1 -1 -1 -1 -1 -1 -1 -1\n",
      " -1 -1 -1 -1 -1 -1 -1 -1 -1 -1 -1 -1 -1 -1 -1 -1 -1 -1 -1 -1 -1 -1]\n",
      "\n",
      "\n",
      "C = 20, gamma = 0.1\n",
      "0.486111111111\n",
      "[1 1 1 1 1 1 1 1 1 1 1 1 1 1 1 1 1 1 1 1 1 1 1 1 1 1 1 1 1 1 1 1 1 1 1 1 1\n",
      " 1 1 1 1 1 1 1 1 1 1 1 1 1 1 1 1 1 1 1 1 1 1 1 1 1 1 1 1 1 1 1 1 1 1 1]\n",
      "\n",
      "\n",
      "C = 20, gamma = 1\n",
      "0.555555555556\n",
      "[ 1  1  1  1 -1  1  1  1  1  1  1  1  1  1  1  1  1  1  1  1  1 -1  1  1 -1\n",
      "  1  1  1  1  1  1  1  1  1  1  1  1  1  1  1  1  1  1  1  1  1  1  1  1  1\n",
      "  1  1 -1  1  1  1  1  1  1  1  1 -1  1  1  1  1  1  1  1  1  1  1]\n",
      "\n",
      "\n",
      "C = 20, gamma = 10\n",
      "1.0\n",
      "[ 1  1 -1  1 -1  1 -1  1 -1 -1 -1 -1  1  1 -1 -1  1 -1  1  1  1 -1  1  1 -1\n",
      " -1 -1  1  1 -1 -1  1 -1  1 -1  1  1 -1  1  1 -1  1  1 -1 -1  1 -1 -1  1 -1\n",
      " -1 -1 -1 -1 -1  1 -1  1 -1 -1 -1 -1  1  1  1  1  1 -1 -1  1  1  1]\n",
      "\n",
      "\n",
      "C = 20, gamma = 100\n",
      "1.0\n",
      "[ 1  1 -1  1 -1  1 -1  1 -1 -1 -1 -1  1  1 -1 -1  1 -1  1  1  1 -1  1  1 -1\n",
      " -1 -1  1  1 -1 -1  1 -1  1 -1  1  1 -1  1  1 -1  1  1 -1 -1  1 -1 -1  1 -1\n",
      " -1 -1 -1 -1 -1  1 -1  1 -1 -1 -1 -1  1  1  1  1  1 -1 -1  1  1  1]\n",
      "\n",
      "\n",
      "C = 100, gamma = 0.0001\n",
      "0.513888888889\n",
      "[-1 -1 -1 -1 -1 -1 -1 -1 -1 -1 -1 -1 -1 -1 -1 -1 -1 -1 -1 -1 -1 -1 -1 -1 -1\n",
      " -1 -1 -1 -1 -1 -1 -1 -1 -1 -1 -1 -1 -1 -1 -1 -1 -1 -1 -1 -1 -1 -1 -1 -1 -1\n",
      " -1 -1 -1 -1 -1 -1 -1 -1 -1 -1 -1 -1 -1 -1 -1 -1 -1 -1 -1 -1 -1 -1]\n",
      "\n",
      "\n",
      "C = 100, gamma = 0.001\n",
      "0.513888888889\n",
      "[-1 -1 -1 -1 -1 -1 -1 -1 -1 -1 -1 -1 -1 -1 -1 -1 -1 -1 -1 -1 -1 -1 -1 -1 -1\n",
      " -1 -1 -1 -1 -1 -1 -1 -1 -1 -1 -1 -1 -1 -1 -1 -1 -1 -1 -1 -1 -1 -1 -1 -1 -1\n",
      " -1 -1 -1 -1 -1 -1 -1 -1 -1 -1 -1 -1 -1 -1 -1 -1 -1 -1 -1 -1 -1 -1]\n",
      "\n",
      "\n"
     ]
    }
   ],
   "source": [
    "from sklearn.metrics import accuracy_score\n",
    "\n",
    "\n",
    "for i in [1,5,10,20,100]:\n",
    "    for j in [0.0001, 0.001,0.01,0.1,1, 10, 100]:\n",
    "        model = Kernel_SVM(cost=i,gamma = j)\n",
    "        model.fit(x_train, y_train)\n",
    "        print(\"C = {}, gamma = {}\".format(i,j))\n",
    "        print(accuracy_score(y_train,model.predict(x_train)))\n",
    "        print(model.predict(x_train))\n",
    "        print(\"\\n\")\n",
    "        "
   ]
  },
  {
   "cell_type": "code",
   "execution_count": null,
   "metadata": {},
   "outputs": [],
   "source": [
    "model = Kernel_SVM(cost=10,gamma = 10)\n",
    "model.fit(x_train, y_train)\n",
    "vizualize.viz(X,Y,model,var_1,var_2)\n",
    "plt.savefig('../fig/kernel_svm.png') "
   ]
  },
  {
   "cell_type": "markdown",
   "metadata": {},
   "source": [
    "# カーネルsvm"
   ]
  },
  {
   "cell_type": "code",
   "execution_count": null,
   "metadata": {},
   "outputs": [],
   "source": [
    "from sklearn import svm\n",
    "clf=svm.SVC(kernel='rbf', gamma=1/2 , C=1.0)\n",
    "clf.fit(x_train, y_train)"
   ]
  },
  {
   "cell_type": "code",
   "execution_count": null,
   "metadata": {},
   "outputs": [],
   "source": [
    "clf.predict(x_train)"
   ]
  },
  {
   "cell_type": "code",
   "execution_count": null,
   "metadata": {},
   "outputs": [],
   "source": [
    "vizualize.viz(X,Y,clf,var_1,var_2)"
   ]
  },
  {
   "cell_type": "code",
   "execution_count": null,
   "metadata": {},
   "outputs": [],
   "source": []
  },
  {
   "cell_type": "code",
   "execution_count": null,
   "metadata": {},
   "outputs": [],
   "source": []
  },
  {
   "cell_type": "code",
   "execution_count": null,
   "metadata": {},
   "outputs": [],
   "source": []
  }
 ],
 "metadata": {
  "kernelspec": {
   "display_name": "Python 3",
   "language": "python",
   "name": "python3"
  },
  "language_info": {
   "codemirror_mode": {
    "name": "ipython",
    "version": 3
   },
   "file_extension": ".py",
   "mimetype": "text/x-python",
   "name": "python",
   "nbconvert_exporter": "python",
   "pygments_lexer": "ipython3",
   "version": "3.6.8"
  },
  "toc": {
   "colors": {
    "hover_highlight": "#DAA520",
    "navigate_num": "#000000",
    "navigate_text": "#333333",
    "running_highlight": "#FF0000",
    "selected_highlight": "#FFD700",
    "sidebar_border": "#EEEEEE",
    "wrapper_background": "#FFFFFF"
   },
   "moveMenuLeft": true,
   "nav_menu": {
    "height": "228px",
    "width": "252px"
   },
   "navigate_menu": true,
   "number_sections": true,
   "sideBar": true,
   "threshold": 4,
   "toc_cell": false,
   "toc_section_display": "block",
   "toc_window_display": false,
   "widenNotebook": false
  }
 },
 "nbformat": 4,
 "nbformat_minor": 2
}
